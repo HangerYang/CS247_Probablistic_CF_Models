{
  "cells": [
    {
      "cell_type": "code",
      "execution_count": null,
      "metadata": {
        "colab": {
          "base_uri": "https://localhost:8080/",
          "height": 35
        },
        "id": "44mCktYiqQyo",
        "outputId": "df589950-8711-40d4-d669-cc6de8b0b8b7"
      },
      "outputs": [
        {
          "data": {
            "application/vnd.google.colaboratory.intrinsic+json": {
              "type": "string"
            },
            "text/plain": [
              "'1.10.0+cu111'"
            ]
          },
          "execution_count": 1,
          "metadata": {},
          "output_type": "execute_result"
        }
      ],
      "source": [
        "import torch\n",
        "torch.__version__"
      ]
    },
    {
      "cell_type": "code",
      "execution_count": null,
      "metadata": {
        "colab": {
          "base_uri": "https://localhost:8080/"
        },
        "id": "ZaJlGMUvqPOD",
        "outputId": "1f79bdb5-37f2-4297-8f35-ef53dc9d7021"
      },
      "outputs": [
        {
          "name": "stdout",
          "output_type": "stream",
          "text": [
            "\u001b[K     |████████████████████████████████| 831.4 MB 2.5 kB/s \n",
            "\u001b[31mERROR: pip's dependency resolver does not currently take into account all the packages that are installed. This behaviour is the source of the following dependency conflicts.\n",
            "torchvision 0.11.1+cu111 requires torch==1.10.0, but you have torch 1.9.0 which is incompatible.\n",
            "torchtext 0.11.0 requires torch==1.10.0, but you have torch 1.9.0 which is incompatible.\n",
            "torchaudio 0.10.0+cu111 requires torch==1.10.0, but you have torch 1.9.0 which is incompatible.\u001b[0m\n",
            "\u001b[?25h"
          ]
        }
      ],
      "source": [
        "!pip install -q torch==1.9.0"
      ]
    },
    {
      "cell_type": "code",
      "execution_count": null,
      "metadata": {
        "colab": {
          "base_uri": "https://localhost:8080/"
        },
        "id": "iNTqlQf81ZyE",
        "outputId": "02cb11c1-3e3e-438b-c712-0914b300cdbf"
      },
      "outputs": [
        {
          "name": "stdout",
          "output_type": "stream",
          "text": [
            "Looking in links: https://data.pyg.org/whl/torch-1.10.0+cu111.html\n",
            "Collecting torch-scatter\n",
            "  Downloading https://data.pyg.org/whl/torch-1.10.0%2Bcu113/torch_scatter-2.0.9-cp37-cp37m-linux_x86_64.whl (7.9 MB)\n",
            "\u001b[K     |████████████████████████████████| 7.9 MB 6.0 MB/s \n",
            "\u001b[?25hInstalling collected packages: torch-scatter\n",
            "Successfully installed torch-scatter-2.0.9\n",
            "Looking in links: https://data.pyg.org/whl/torch-1.10.0+cu111.html\n",
            "Collecting torch-sparse\n",
            "  Downloading https://data.pyg.org/whl/torch-1.10.0%2Bcu113/torch_sparse-0.6.13-cp37-cp37m-linux_x86_64.whl (3.5 MB)\n",
            "\u001b[K     |████████████████████████████████| 3.5 MB 5.5 MB/s \n",
            "\u001b[?25hRequirement already satisfied: scipy in /usr/local/lib/python3.7/dist-packages (from torch-sparse) (1.4.1)\n",
            "Requirement already satisfied: numpy>=1.13.3 in /usr/local/lib/python3.7/dist-packages (from scipy->torch-sparse) (1.21.5)\n",
            "Installing collected packages: torch-sparse\n",
            "Successfully installed torch-sparse-0.6.13\n",
            "Collecting torch-geometric\n",
            "  Downloading torch_geometric-2.0.4.tar.gz (407 kB)\n",
            "\u001b[K     |████████████████████████████████| 407 kB 5.8 MB/s \n",
            "\u001b[?25hRequirement already satisfied: tqdm in /usr/local/lib/python3.7/dist-packages (from torch-geometric) (4.63.0)\n",
            "Requirement already satisfied: numpy in /usr/local/lib/python3.7/dist-packages (from torch-geometric) (1.21.5)\n",
            "Requirement already satisfied: scipy in /usr/local/lib/python3.7/dist-packages (from torch-geometric) (1.4.1)\n",
            "Requirement already satisfied: pandas in /usr/local/lib/python3.7/dist-packages (from torch-geometric) (1.3.5)\n",
            "Requirement already satisfied: jinja2 in /usr/local/lib/python3.7/dist-packages (from torch-geometric) (2.11.3)\n",
            "Requirement already satisfied: requests in /usr/local/lib/python3.7/dist-packages (from torch-geometric) (2.23.0)\n",
            "Requirement already satisfied: pyparsing in /usr/local/lib/python3.7/dist-packages (from torch-geometric) (3.0.7)\n",
            "Requirement already satisfied: scikit-learn in /usr/local/lib/python3.7/dist-packages (from torch-geometric) (1.0.2)\n",
            "Requirement already satisfied: MarkupSafe>=0.23 in /usr/local/lib/python3.7/dist-packages (from jinja2->torch-geometric) (2.0.1)\n",
            "Requirement already satisfied: pytz>=2017.3 in /usr/local/lib/python3.7/dist-packages (from pandas->torch-geometric) (2018.9)\n",
            "Requirement already satisfied: python-dateutil>=2.7.3 in /usr/local/lib/python3.7/dist-packages (from pandas->torch-geometric) (2.8.2)\n",
            "Requirement already satisfied: six>=1.5 in /usr/local/lib/python3.7/dist-packages (from python-dateutil>=2.7.3->pandas->torch-geometric) (1.15.0)\n",
            "Requirement already satisfied: chardet<4,>=3.0.2 in /usr/local/lib/python3.7/dist-packages (from requests->torch-geometric) (3.0.4)\n",
            "Requirement already satisfied: idna<3,>=2.5 in /usr/local/lib/python3.7/dist-packages (from requests->torch-geometric) (2.10)\n",
            "Requirement already satisfied: certifi>=2017.4.17 in /usr/local/lib/python3.7/dist-packages (from requests->torch-geometric) (2021.10.8)\n",
            "Requirement already satisfied: urllib3!=1.25.0,!=1.25.1,<1.26,>=1.21.1 in /usr/local/lib/python3.7/dist-packages (from requests->torch-geometric) (1.24.3)\n",
            "Requirement already satisfied: threadpoolctl>=2.0.0 in /usr/local/lib/python3.7/dist-packages (from scikit-learn->torch-geometric) (3.1.0)\n",
            "Requirement already satisfied: joblib>=0.11 in /usr/local/lib/python3.7/dist-packages (from scikit-learn->torch-geometric) (1.1.0)\n",
            "Building wheels for collected packages: torch-geometric\n",
            "  Building wheel for torch-geometric (setup.py) ... \u001b[?25l\u001b[?25hdone\n",
            "  Created wheel for torch-geometric: filename=torch_geometric-2.0.4-py3-none-any.whl size=616603 sha256=b48ff82cec8f8f89680039c69bad136f220b7a9e3c4f031c44066cd6993fc2d6\n",
            "  Stored in directory: /root/.cache/pip/wheels/18/a6/a4/ca18c3051fcead866fe7b85700ee2240d883562a1bc70ce421\n",
            "Successfully built torch-geometric\n",
            "Installing collected packages: torch-geometric\n",
            "Successfully installed torch-geometric-2.0.4\n",
            "  Building wheel for deepsnap (setup.py) ... \u001b[?25l\u001b[?25hdone\n"
          ]
        }
      ],
      "source": [
        "!pip install torch-scatter -f https://data.pyg.org/whl/torch-1.9.0+cu111.html\n",
        "!pip install torch-sparse -f https://data.pyg.org/whl/torch-1.9.0+cu111.html\n",
        "!pip install torch-geometric\n",
        "!pip install -q git+https://github.com/snap-stanford/deepsnap.git\n",
        "!pip install -U -q PyDrive"
      ]
    },
    {
      "cell_type": "code",
      "execution_count": null,
      "metadata": {
        "id": "dEmRs-wRqR-l"
      },
      "outputs": [],
      "source": [
        "import pandas as pd\n",
        "pd.set_option('display.max_colwidth', None)\n",
        "from sklearn import preprocessing as pp\n",
        "from sklearn.model_selection import train_test_split\n",
        "import scipy.sparse as sp\n",
        "import numpy as np\n",
        "import random\n",
        "import torch.nn as nn\n",
        "from torch.utils.data import Dataset, DataLoader\n",
        "import time\n",
        "import matplotlib.pyplot as plt\n",
        "from tqdm.notebook import tqdm\n",
        "from torch_geometric.data import download_url, extract_zip"
      ]
    },
    {
      "cell_type": "code",
      "execution_count": null,
      "metadata": {
        "colab": {
          "base_uri": "https://localhost:8080/"
        },
        "id": "fQk315i70TFt",
        "outputId": "38dff32e-f2df-460b-b687-55edb83da088"
      },
      "outputs": [
        {
          "name": "stderr",
          "output_type": "stream",
          "text": [
            "Downloading https://files.grouplens.org/datasets/movielens/ml-1m.zip\n",
            "Extracting ./ml-1m.zip\n"
          ]
        }
      ],
      "source": [
        "url = 'https://files.grouplens.org/datasets/movielens/ml-1m.zip'\n",
        "extract_zip(download_url(url, '.'), '.')\n",
        "\n",
        "movie_path = './ml-1m/movies.dat'\n",
        "rating_path = './ml-1m/ratings.dat'"
      ]
    },
    {
      "cell_type": "code",
      "execution_count": null,
      "metadata": {
        "colab": {
          "base_uri": "https://localhost:8080/",
          "height": 278
        },
        "id": "sXB3p9ulqTC5",
        "outputId": "b8961cdb-2f81-45ae-c445-fe485149f7fb"
      },
      "outputs": [
        {
          "name": "stderr",
          "output_type": "stream",
          "text": [
            "/usr/local/lib/python3.7/dist-packages/pandas/util/_decorators.py:311: ParserWarning: Falling back to the 'python' engine because the 'c' engine does not support regex separators (separators > 1 char and different from '\\s+' are interpreted as regex); you can avoid this warning by specifying engine='python'.\n",
            "  return func(*args, **kwargs)\n"
          ]
        },
        {
          "name": "stdout",
          "output_type": "stream",
          "text": [
            "1000209\n"
          ]
        },
        {
          "data": {
            "text/html": [
              "\n",
              "  <div id=\"df-83c91e9f-7c1e-45aa-820f-38f3b95a53ef\">\n",
              "    <div class=\"colab-df-container\">\n",
              "      <div>\n",
              "<style scoped>\n",
              "    .dataframe tbody tr th:only-of-type {\n",
              "        vertical-align: middle;\n",
              "    }\n",
              "\n",
              "    .dataframe tbody tr th {\n",
              "        vertical-align: top;\n",
              "    }\n",
              "\n",
              "    .dataframe thead th {\n",
              "        text-align: right;\n",
              "    }\n",
              "</style>\n",
              "<table border=\"1\" class=\"dataframe\">\n",
              "  <thead>\n",
              "    <tr style=\"text-align: right;\">\n",
              "      <th></th>\n",
              "      <th>user_id</th>\n",
              "      <th>item_id</th>\n",
              "      <th>rating</th>\n",
              "      <th>timestamp</th>\n",
              "    </tr>\n",
              "  </thead>\n",
              "  <tbody>\n",
              "    <tr>\n",
              "      <th>0</th>\n",
              "      <td>1</td>\n",
              "      <td>1193</td>\n",
              "      <td>5</td>\n",
              "      <td>978300760</td>\n",
              "    </tr>\n",
              "    <tr>\n",
              "      <th>1</th>\n",
              "      <td>1</td>\n",
              "      <td>661</td>\n",
              "      <td>3</td>\n",
              "      <td>978302109</td>\n",
              "    </tr>\n",
              "    <tr>\n",
              "      <th>2</th>\n",
              "      <td>1</td>\n",
              "      <td>914</td>\n",
              "      <td>3</td>\n",
              "      <td>978301968</td>\n",
              "    </tr>\n",
              "    <tr>\n",
              "      <th>3</th>\n",
              "      <td>1</td>\n",
              "      <td>3408</td>\n",
              "      <td>4</td>\n",
              "      <td>978300275</td>\n",
              "    </tr>\n",
              "    <tr>\n",
              "      <th>4</th>\n",
              "      <td>1</td>\n",
              "      <td>2355</td>\n",
              "      <td>5</td>\n",
              "      <td>978824291</td>\n",
              "    </tr>\n",
              "  </tbody>\n",
              "</table>\n",
              "</div>\n",
              "      <button class=\"colab-df-convert\" onclick=\"convertToInteractive('df-83c91e9f-7c1e-45aa-820f-38f3b95a53ef')\"\n",
              "              title=\"Convert this dataframe to an interactive table.\"\n",
              "              style=\"display:none;\">\n",
              "        \n",
              "  <svg xmlns=\"http://www.w3.org/2000/svg\" height=\"24px\"viewBox=\"0 0 24 24\"\n",
              "       width=\"24px\">\n",
              "    <path d=\"M0 0h24v24H0V0z\" fill=\"none\"/>\n",
              "    <path d=\"M18.56 5.44l.94 2.06.94-2.06 2.06-.94-2.06-.94-.94-2.06-.94 2.06-2.06.94zm-11 1L8.5 8.5l.94-2.06 2.06-.94-2.06-.94L8.5 2.5l-.94 2.06-2.06.94zm10 10l.94 2.06.94-2.06 2.06-.94-2.06-.94-.94-2.06-.94 2.06-2.06.94z\"/><path d=\"M17.41 7.96l-1.37-1.37c-.4-.4-.92-.59-1.43-.59-.52 0-1.04.2-1.43.59L10.3 9.45l-7.72 7.72c-.78.78-.78 2.05 0 2.83L4 21.41c.39.39.9.59 1.41.59.51 0 1.02-.2 1.41-.59l7.78-7.78 2.81-2.81c.8-.78.8-2.07 0-2.86zM5.41 20L4 18.59l7.72-7.72 1.47 1.35L5.41 20z\"/>\n",
              "  </svg>\n",
              "      </button>\n",
              "      \n",
              "  <style>\n",
              "    .colab-df-container {\n",
              "      display:flex;\n",
              "      flex-wrap:wrap;\n",
              "      gap: 12px;\n",
              "    }\n",
              "\n",
              "    .colab-df-convert {\n",
              "      background-color: #E8F0FE;\n",
              "      border: none;\n",
              "      border-radius: 50%;\n",
              "      cursor: pointer;\n",
              "      display: none;\n",
              "      fill: #1967D2;\n",
              "      height: 32px;\n",
              "      padding: 0 0 0 0;\n",
              "      width: 32px;\n",
              "    }\n",
              "\n",
              "    .colab-df-convert:hover {\n",
              "      background-color: #E2EBFA;\n",
              "      box-shadow: 0px 1px 2px rgba(60, 64, 67, 0.3), 0px 1px 3px 1px rgba(60, 64, 67, 0.15);\n",
              "      fill: #174EA6;\n",
              "    }\n",
              "\n",
              "    [theme=dark] .colab-df-convert {\n",
              "      background-color: #3B4455;\n",
              "      fill: #D2E3FC;\n",
              "    }\n",
              "\n",
              "    [theme=dark] .colab-df-convert:hover {\n",
              "      background-color: #434B5C;\n",
              "      box-shadow: 0px 1px 3px 1px rgba(0, 0, 0, 0.15);\n",
              "      filter: drop-shadow(0px 1px 2px rgba(0, 0, 0, 0.3));\n",
              "      fill: #FFFFFF;\n",
              "    }\n",
              "  </style>\n",
              "\n",
              "      <script>\n",
              "        const buttonEl =\n",
              "          document.querySelector('#df-83c91e9f-7c1e-45aa-820f-38f3b95a53ef button.colab-df-convert');\n",
              "        buttonEl.style.display =\n",
              "          google.colab.kernel.accessAllowed ? 'block' : 'none';\n",
              "\n",
              "        async function convertToInteractive(key) {\n",
              "          const element = document.querySelector('#df-83c91e9f-7c1e-45aa-820f-38f3b95a53ef');\n",
              "          const dataTable =\n",
              "            await google.colab.kernel.invokeFunction('convertToInteractive',\n",
              "                                                     [key], {});\n",
              "          if (!dataTable) return;\n",
              "\n",
              "          const docLinkHtml = 'Like what you see? Visit the ' +\n",
              "            '<a target=\"_blank\" href=https://colab.research.google.com/notebooks/data_table.ipynb>data table notebook</a>'\n",
              "            + ' to learn more about interactive tables.';\n",
              "          element.innerHTML = '';\n",
              "          dataTable['output_type'] = 'display_data';\n",
              "          await google.colab.output.renderOutput(dataTable, element);\n",
              "          const docLink = document.createElement('div');\n",
              "          docLink.innerHTML = docLinkHtml;\n",
              "          element.appendChild(docLink);\n",
              "        }\n",
              "      </script>\n",
              "    </div>\n",
              "  </div>\n",
              "  "
            ],
            "text/plain": [
              "   user_id  item_id  rating  timestamp\n",
              "0        1     1193       5  978300760\n",
              "1        1      661       3  978302109\n",
              "2        1      914       3  978301968\n",
              "3        1     3408       4  978300275\n",
              "4        1     2355       5  978824291"
            ]
          },
          "metadata": {},
          "output_type": "display_data"
        }
      ],
      "source": [
        "columns_name=['user_id','item_id','rating','timestamp']\n",
        "df = pd.read_csv(\"./ml-1m/ratings.dat\",sep=\"::\",names=columns_name)\n",
        "print(len(df))\n",
        "display(df.head(5))"
      ]
    },
    {
      "cell_type": "code",
      "execution_count": null,
      "metadata": {
        "colab": {
          "base_uri": "https://localhost:8080/"
        },
        "id": "DUm1wlwxqUmU",
        "outputId": "b3c8b380-0fef-4b58-d486-0832be85b7c5"
      },
      "outputs": [
        {
          "name": "stdout",
          "output_type": "stream",
          "text": [
            "836478\n"
          ]
        }
      ],
      "source": [
        "df = df[df['rating']>=3]\n",
        "print(len(df))"
      ]
    },
    {
      "cell_type": "code",
      "execution_count": null,
      "metadata": {
        "id": "TgJbk8kyqXdF"
      },
      "outputs": [],
      "source": [
        "train, test = train_test_split(df.values, test_size=0.2, random_state = 16)\n",
        "train = pd.DataFrame(train, columns = df.columns)\n",
        "test = pd.DataFrame(test, columns = df.columns)"
      ]
    },
    {
      "cell_type": "code",
      "execution_count": null,
      "metadata": {
        "id": "1bZsaS-2zE5Z"
      },
      "outputs": [],
      "source": [
        "le_user = pp.LabelEncoder()\n",
        "le_item = pp.LabelEncoder()\n",
        "train['user_id_idx'] = le_user.fit_transform(train['user_id'].values)\n",
        "train['item_id_idx'] = le_item.fit_transform(train['item_id'].values)"
      ]
    },
    {
      "cell_type": "code",
      "execution_count": null,
      "metadata": {
        "colab": {
          "base_uri": "https://localhost:8080/"
        },
        "id": "OhcJpgJezF0y",
        "outputId": "9b599bee-1590-4577-d964-eecd779aa566"
      },
      "outputs": [
        {
          "name": "stdout",
          "output_type": "stream",
          "text": [
            "6039 3601\n",
            "167265\n"
          ]
        }
      ],
      "source": [
        "train_user_ids = train['user_id'].unique()\n",
        "train_item_ids = train['item_id'].unique()\n",
        "\n",
        "print(len(train_user_ids), len(train_item_ids))\n",
        "\n",
        "test = test[(test['user_id'].isin(train_user_ids)) & (test['item_id'].isin(train_item_ids))]\n",
        "print(len(test))"
      ]
    },
    {
      "cell_type": "code",
      "execution_count": null,
      "metadata": {
        "colab": {
          "base_uri": "https://localhost:8080/"
        },
        "id": "m9BHtpZ8zGrd",
        "outputId": "507947b2-be1f-4e98-a0d5-003f3186d04e"
      },
      "outputs": [
        {
          "name": "stderr",
          "output_type": "stream",
          "text": [
            "/usr/local/lib/python3.7/dist-packages/ipykernel_launcher.py:1: SettingWithCopyWarning: \n",
            "A value is trying to be set on a copy of a slice from a DataFrame.\n",
            "Try using .loc[row_indexer,col_indexer] = value instead\n",
            "\n",
            "See the caveats in the documentation: https://pandas.pydata.org/pandas-docs/stable/user_guide/indexing.html#returning-a-view-versus-a-copy\n",
            "  \"\"\"Entry point for launching an IPython kernel.\n",
            "/usr/local/lib/python3.7/dist-packages/ipykernel_launcher.py:2: SettingWithCopyWarning: \n",
            "A value is trying to be set on a copy of a slice from a DataFrame.\n",
            "Try using .loc[row_indexer,col_indexer] = value instead\n",
            "\n",
            "See the caveats in the documentation: https://pandas.pydata.org/pandas-docs/stable/user_guide/indexing.html#returning-a-view-versus-a-copy\n",
            "  \n"
          ]
        }
      ],
      "source": [
        "test['user_id_idx'] = le_user.transform(test['user_id'].values)\n",
        "test['item_id_idx'] = le_item.transform(test['item_id'].values)"
      ]
    },
    {
      "cell_type": "code",
      "execution_count": null,
      "metadata": {
        "colab": {
          "base_uri": "https://localhost:8080/"
        },
        "id": "_Kx_Cz3QzHfL",
        "outputId": "9f05b197-ddce-4a73-c0a2-2c83c463ba50"
      },
      "outputs": [
        {
          "name": "stdout",
          "output_type": "stream",
          "text": [
            "Number of Unique Users :  6039\n",
            "Number of unique Items :  3601\n"
          ]
        }
      ],
      "source": [
        "n_users = train['user_id_idx'].nunique()\n",
        "n_items = train['item_id_idx'].nunique()\n",
        "print(\"Number of Unique Users : \", n_users)\n",
        "print(\"Number of unique Items : \", n_items)"
      ]
    },
    {
      "cell_type": "code",
      "execution_count": null,
      "metadata": {
        "id": "n6QCe_l8zIbS"
      },
      "outputs": [],
      "source": [
        "latent_dim = 64\n",
        "n_layers = 3  "
      ]
    },
    {
      "cell_type": "code",
      "execution_count": null,
      "metadata": {
        "id": "gm7fVi_AzJUz"
      },
      "outputs": [],
      "source": [
        "def convert_to_sparse_tensor(dok_mtrx):\n",
        "    \n",
        "    dok_mtrx_coo = dok_mtrx.tocoo().astype(np.float32)\n",
        "    values = dok_mtrx_coo.data\n",
        "    indices = np.vstack((dok_mtrx_coo.row, dok_mtrx_coo.col))\n",
        "\n",
        "    i = torch.LongTensor(indices)\n",
        "    v = torch.FloatTensor(values)\n",
        "    shape = dok_mtrx_coo.shape\n",
        "\n",
        "    dok_mtrx_sparse_tensor = torch.sparse.FloatTensor(i, v, torch.Size(shape))\n",
        "\n",
        "    return dok_mtrx_sparse_tensor"
      ]
    },
    {
      "cell_type": "code",
      "execution_count": null,
      "metadata": {
        "id": "uPHfSIgezLD3"
      },
      "outputs": [],
      "source": [
        "def get_metrics(user_Embed_wts, item_Embed_wts, n_users, n_items, train_data, test_data, K):\n",
        "\n",
        "    user_Embedding = nn.Embedding(user_Embed_wts.size()[0], user_Embed_wts.size()[1], _weight = user_Embed_wts)\n",
        "    item_Embedding = nn.Embedding(item_Embed_wts.size()[0], item_Embed_wts.size()[1], _weight = item_Embed_wts)\n",
        "\n",
        "    test_user_ids = torch.LongTensor(test_data['user_id_idx'].unique())\n",
        "\n",
        "    relevance_score = torch.matmul(user_Embed_wts, torch.transpose(item_Embed_wts,0, 1))\n",
        "\n",
        "    R = sp.dok_matrix((n_users, n_items), dtype = np.float32)\n",
        "    R[train_data['user_id_idx'], train_data['item_id_idx']] = 1.0\n",
        "\n",
        "    R_tensor = convert_to_sparse_tensor(R)\n",
        "    R_tensor_dense = R_tensor.to_dense()\n",
        "\n",
        "    R_tensor_dense = R_tensor_dense*(-np.inf)\n",
        "    R_tensor_dense = torch.nan_to_num(R_tensor_dense, nan=0.0)\n",
        "\n",
        "    relevance_score = relevance_score+R_tensor_dense\n",
        "\n",
        "    topk_relevance_score = torch.topk(relevance_score, K).values\n",
        "    topk_relevance_indices = torch.topk(relevance_score, K).indices\n",
        "\n",
        "    topk_relevance_indices_df = pd.DataFrame(topk_relevance_indices.numpy(),columns =['top_indx_'+str(x+1) for x in range(K)])\n",
        "\n",
        "    topk_relevance_indices_df['user_ID'] = topk_relevance_indices_df.index\n",
        " \n",
        "    topk_relevance_indices_df['top_rlvnt_itm'] = topk_relevance_indices_df[['top_indx_'+str(x+1) for x in range(K)]].values.tolist()\n",
        "    topk_relevance_indices_df = topk_relevance_indices_df[['user_ID','top_rlvnt_itm']]\n",
        "\n",
        "    test_interacted_items = test_data.groupby('user_id_idx')['item_id_idx'].apply(list).reset_index()\n",
        "\n",
        "    metrics_df = pd.merge(test_interacted_items,topk_relevance_indices_df, how= 'left', left_on = 'user_id_idx',right_on = ['user_ID'])\n",
        "    metrics_df['intrsctn_itm'] = [list(set(a).intersection(b)) for a, b in zip(metrics_df.item_id_idx, metrics_df.top_rlvnt_itm)]\n",
        "\n",
        "\n",
        "    metrics_df['recall'] = metrics_df.apply(lambda x : len(x['intrsctn_itm'])/len(x['item_id_idx']), axis = 1) \n",
        "    metrics_df['precision'] = metrics_df.apply(lambda x : len(x['intrsctn_itm'])/K, axis = 1)\n",
        "\n",
        "    def get_hit_list(item_id_idx, top_rlvnt_itm):\n",
        "        return [1 if x in set(item_id_idx) else 0 for x in top_rlvnt_itm ]\n",
        "\n",
        "    metrics_df['hit_list'] = metrics_df.apply(lambda x : get_hit_list(x['item_id_idx'], x['top_rlvnt_itm']), axis = 1)\n",
        "\n",
        "    def get_dcg_idcg(item_id_idx, hit_list):\n",
        "        idcg  = sum([1 / np.log1p(idx+1) for idx in range(min(len(item_id_idx),len(hit_list)))])\n",
        "        dcg =  sum([hit / np.log1p(idx+1) for idx, hit in enumerate(hit_list)])\n",
        "        return dcg/idcg\n",
        "\n",
        "    def get_cumsum(hit_list):\n",
        "        return np.cumsum(hit_list)\n",
        "\n",
        "    def get_map(item_id_idx, hit_list, hit_list_cumsum):\n",
        "        return sum([hit_cumsum*hit/(idx+1) for idx, (hit, hit_cumsum) in enumerate(zip(hit_list, hit_list_cumsum))])/len(item_id_idx)\n",
        "\n",
        "    metrics_df['ndcg'] = metrics_df.apply(lambda x : get_dcg_idcg(x['item_id_idx'], x['hit_list']), axis = 1)\n",
        "    metrics_df['hit_list_cumsum'] = metrics_df.apply(lambda x : get_cumsum(x['hit_list']), axis = 1)\n",
        "\n",
        "    metrics_df['map'] = metrics_df.apply(lambda x : get_map(x['item_id_idx'], x['hit_list'], x['hit_list_cumsum']), axis = 1)\n",
        "\n",
        "    return metrics_df['recall'].mean(), metrics_df['precision'].mean(), metrics_df['ndcg'].mean(), metrics_df['map'].mean()"
      ]
    },
    {
      "cell_type": "code",
      "execution_count": null,
      "metadata": {
        "id": "D8zDixz3zOuc"
      },
      "outputs": [],
      "source": [
        "class LightGCN(nn.Module):\n",
        "    def __init__(self, data, n_users, n_items, n_layers, latent_dim):\n",
        "        super(LightGCN, self).__init__()\n",
        "        self.data = data\n",
        "        self.n_users = n_users\n",
        "        self.n_items = n_items\n",
        "        self.n_layers = n_layers\n",
        "        self.latent_dim = latent_dim\n",
        "        self.init_embedding()\n",
        "        self.norm_adj_mat_sparse_tensor = self.get_A_tilda()\n",
        "\n",
        "    def init_embedding(self):\n",
        "        self.E0 = nn.Embedding(self.n_users + self.n_items, self.latent_dim)\n",
        "        nn.init.xavier_uniform_(self.E0.weight)\n",
        "        self.E0.weight = nn.Parameter(self.E0.weight)\n",
        "\n",
        "    def get_A_tilda(self):\n",
        "        R = sp.dok_matrix((self.n_users, self.n_items), dtype = np.float32)\n",
        "        R[self.data['user_id_idx'], self.data['item_id_idx']] = 1.0\n",
        "\n",
        "        adj_mat = sp.dok_matrix(\n",
        "                (self.n_users + self.n_items, self.n_users + self.n_items), dtype=np.float32\n",
        "            )\n",
        "        adj_mat = adj_mat.tolil()\n",
        "        R = R.tolil()\n",
        "\n",
        "        adj_mat[: n_users, n_users :] = R\n",
        "        adj_mat[n_users :, : n_users] = R.T\n",
        "        adj_mat = adj_mat.todok()\n",
        "\n",
        "        rowsum = np.array(adj_mat.sum(1))\n",
        "        d_inv = np.power(rowsum + 1e-9, -0.5).flatten()\n",
        "        d_inv[np.isinf(d_inv)] = 0.0\n",
        "        d_mat_inv = sp.diags(d_inv)\n",
        "        norm_adj_mat = d_mat_inv.dot(adj_mat)\n",
        "        norm_adj_mat = norm_adj_mat.dot(d_mat_inv)\n",
        "        \n",
        "        # Below Code is toconvert the dok_matrix to sparse tensor.\n",
        "        \n",
        "        norm_adj_mat_coo = norm_adj_mat.tocoo().astype(np.float32)\n",
        "        values = norm_adj_mat_coo.data\n",
        "        indices = np.vstack((norm_adj_mat_coo.row, norm_adj_mat_coo.col))\n",
        "\n",
        "        i = torch.LongTensor(indices)\n",
        "        v = torch.FloatTensor(values)\n",
        "        shape = norm_adj_mat_coo.shape\n",
        "\n",
        "        norm_adj_mat_sparse_tensor = torch.sparse.FloatTensor(i, v, torch.Size(shape))\n",
        "\n",
        "        return norm_adj_mat_sparse_tensor\n",
        "    \n",
        "    def propagate_through_layers(self):\n",
        "        all_layer_embedding = [self.E0.weight]\n",
        "        E_lyr = self.E0.weight\n",
        "\n",
        "        for layer in range(self.n_layers):\n",
        "            E_lyr = torch.sparse.mm(self.norm_adj_mat_sparse_tensor, E_lyr)\n",
        "            all_layer_embedding.append(E_lyr)\n",
        "\n",
        "        all_layer_embedding = torch.stack(all_layer_embedding)\n",
        "        mean_layer_embedding = torch.mean(all_layer_embedding, axis = 0)\n",
        "\n",
        "        final_user_Embed, final_item_Embed = torch.split(mean_layer_embedding, [n_users, n_items])\n",
        "        initial_user_Embed, initial_item_Embed = torch.split(self.E0.weight, [n_users, n_items])\n",
        "\n",
        "        return final_user_Embed, final_item_Embed, initial_user_Embed, initial_item_Embed\n",
        "\n",
        "    def forward(self, users, pos_items, neg_items):\n",
        "        final_user_Embed, final_item_Embed, initial_user_Embed, initial_item_Embed = self.propagate_through_layers()\n",
        "\n",
        "        users_emb, pos_emb, neg_emb = final_user_Embed[users], final_item_Embed[pos_items], final_item_Embed[neg_items]\n",
        "        userEmb0,  posEmb0, negEmb0 = initial_user_Embed[users], initial_item_Embed[pos_items], initial_item_Embed[neg_items]\n",
        "\n",
        "        return users_emb, pos_emb, neg_emb, userEmb0,  posEmb0, negEmb0"
      ]
    },
    {
      "cell_type": "code",
      "execution_count": null,
      "metadata": {
        "id": "TOuOjmpmzPLS"
      },
      "outputs": [],
      "source": [
        "lightGCN = LightGCN(train, n_users, n_items, n_layers, latent_dim)"
      ]
    },
    {
      "cell_type": "code",
      "execution_count": null,
      "metadata": {
        "id": "Nmc0GYIGzUoI"
      },
      "outputs": [],
      "source": [
        "def bpr_loss(users, users_emb, pos_emb, neg_emb, userEmb0,  posEmb0, negEmb0):\n",
        "  \n",
        "    reg_loss = (1/2)*(userEmb0.norm().pow(2) + \n",
        "                    posEmb0.norm().pow(2)  +\n",
        "                    negEmb0.norm().pow(2))/float(len(users))\n",
        "    pos_scores = torch.mul(users_emb, pos_emb)\n",
        "    pos_scores = torch.sum(pos_scores, dim=1)\n",
        "    neg_scores = torch.mul(users_emb, neg_emb)\n",
        "    neg_scores = torch.sum(neg_scores, dim=1)\n",
        "        \n",
        "    loss = torch.mean(torch.nn.functional.softplus(neg_scores - pos_scores))\n",
        "        \n",
        "    return loss, reg_loss"
      ]
    },
    {
      "cell_type": "code",
      "execution_count": null,
      "metadata": {
        "id": "bJI8JjmGzc4Q"
      },
      "outputs": [],
      "source": [
        "def data_loader(data, batch_size, n_usr, n_itm):\n",
        "  \n",
        "    interected_items_df = data.groupby('user_id_idx')['item_id_idx'].apply(list).reset_index()\n",
        "  \n",
        "    def sample_neg(x):\n",
        "        while True:\n",
        "            neg_id = random.randint(0, n_itm - 1)\n",
        "            if neg_id not in x:\n",
        "                return neg_id\n",
        "  \n",
        "    indices = [x for x in range(n_usr)]\n",
        "    \n",
        "    if n_usr < batch_size:\n",
        "        users = [random.choice(indices) for _ in range(batch_size)]\n",
        "    else:\n",
        "        users = random.sample(indices, batch_size)\n",
        "\n",
        "    users.sort()\n",
        "  \n",
        "    users_df = pd.DataFrame(users,columns = ['users'])\n",
        "\n",
        "    interected_items_df = pd.merge(interected_items_df, users_df, how = 'right', left_on = 'user_id_idx', right_on = 'users')\n",
        "  \n",
        "    pos_items = interected_items_df['item_id_idx'].apply(lambda x : random.choice(x)).values\n",
        "\n",
        "    neg_items = interected_items_df['item_id_idx'].apply(lambda x: sample_neg(x)).values\n",
        "\n",
        "    return list(users), list(pos_items), list(neg_items)"
      ]
    },
    {
      "cell_type": "code",
      "execution_count": null,
      "metadata": {
        "id": "Yk6BJbyezd7G"
      },
      "outputs": [],
      "source": [
        "optimizer = torch.optim.Adam(lightGCN.parameters(), lr = 0.005)"
      ]
    },
    {
      "cell_type": "code",
      "execution_count": null,
      "metadata": {
        "id": "VTcWEsS6zeYt"
      },
      "outputs": [],
      "source": [
        "EPOCHS = 10\n",
        "BATCH_SIZE = 1024 \n",
        "DECAY = 0.0001\n",
        "K = 10"
      ]
    },
    {
      "cell_type": "code",
      "execution_count": null,
      "metadata": {
        "colab": {
          "base_uri": "https://localhost:8080/",
          "height": 49,
          "referenced_widgets": [
            "5b8fed1e821047ac932e5eea137b01a9",
            "5f710f7577e94813b1d023f65ee32f9d",
            "5a69365e0f2447ceb2bc4f9a55539341",
            "a416d2b3f2e54b3ca4bd82469d53eda1",
            "9de221597a514f94866fbf405b7a8dda",
            "7a52d735a073466e9c64d84c885f634e",
            "ef9509d02dfa4dceb19151f31d6dcd24",
            "7f3d914f8b70480e9f37da8e006e2683",
            "e5850b4e6d974364915a2557216e6d4e",
            "56d5ac4d6242445682f837592bf0ced4",
            "d6573a81043844df98d55443e3db7996"
          ]
        },
        "id": "Pvj6JrTtzgjx",
        "outputId": "a8e1d1be-8cd6-49de-be88-8cef3e18375d"
      },
      "outputs": [
        {
          "data": {
            "application/vnd.jupyter.widget-view+json": {
              "model_id": "5b8fed1e821047ac932e5eea137b01a9",
              "version_major": 2,
              "version_minor": 0
            },
            "text/plain": [
              "  0%|          | 0/10 [00:00<?, ?it/s]"
            ]
          },
          "metadata": {},
          "output_type": "display_data"
        }
      ],
      "source": [
        "loss_list_epoch = []\n",
        "MF_loss_list_epoch = []\n",
        "reg_loss_list_epoch = []\n",
        "\n",
        "recall_list = []\n",
        "precision_list = []\n",
        "ndcg_list = []\n",
        "map_list = []\n",
        "\n",
        "train_time_list = []\n",
        "eval_time_list = [] \n",
        "\n",
        "for epoch in tqdm(range(EPOCHS)):\n",
        "    n_batch = int(len(train)/BATCH_SIZE)\n",
        "  \n",
        "    final_loss_list = []\n",
        "    MF_loss_list = []\n",
        "    reg_loss_list = []\n",
        "  \n",
        "    best_ndcg = -1\n",
        "  \n",
        "    train_start_time = time.time()\n",
        "    lightGCN.train()\n",
        "    for batch_idx in range(n_batch):\n",
        "\n",
        "        optimizer.zero_grad()\n",
        "\n",
        "        users, pos_items, neg_items = data_loader(train, BATCH_SIZE, n_users, n_items)\n",
        "\n",
        "        users_emb, pos_emb, neg_emb, userEmb0,  posEmb0, negEmb0 = lightGCN.forward(users, pos_items, neg_items)\n",
        "\n",
        "        mf_loss, reg_loss = bpr_loss(users, users_emb, pos_emb, neg_emb, userEmb0,  posEmb0, negEmb0)\n",
        "        reg_loss = DECAY * reg_loss\n",
        "        final_loss = mf_loss + reg_loss\n",
        "\n",
        "        final_loss.backward()\n",
        "        optimizer.step()\n",
        "\n",
        "        final_loss_list.append(final_loss.item())\n",
        "        MF_loss_list.append(mf_loss.item())\n",
        "        reg_loss_list.append(reg_loss.item())\n",
        "\n",
        "\n",
        "    train_end_time = time.time()\n",
        "    train_time = train_end_time - train_start_time\n",
        "\n",
        "    lightGCN.eval()\n",
        "    with torch.no_grad():\n",
        "    \n",
        "        final_user_Embed, final_item_Embed, initial_user_Embed,initial_item_Embed = lightGCN.propagate_through_layers()\n",
        "        test_topK_recall,  test_topK_precision, test_topK_ndcg, test_topK_map  = get_metrics(final_user_Embed, final_item_Embed, n_users, n_items, train, test, K)\n",
        "\n",
        "\n",
        "    if test_topK_ndcg > best_ndcg:\n",
        "        best_ndcg = test_topK_ndcg\n",
        "      \n",
        "        torch.save(final_user_Embed, 'final_user_Embed.pt')\n",
        "        torch.save(final_item_Embed, 'final_item_Embed.pt')\n",
        "        torch.save(initial_user_Embed, 'initial_user_Embed.pt')\n",
        "        torch.save(initial_item_Embed, 'initial_item_Embed.pt')\n",
        "     \n",
        "\n",
        "    eval_time = time.time() - train_end_time\n",
        "\n",
        "    loss_list_epoch.append(round(np.mean(final_loss_list),4))\n",
        "    MF_loss_list_epoch.append(round(np.mean(MF_loss_list),4))\n",
        "    reg_loss_list_epoch.append(round(np.mean(reg_loss_list),4))\n",
        "\n",
        "    recall_list.append(round(test_topK_recall,4))\n",
        "\n",
        "    train_time_list.append(train_time)\n",
        "    eval_time_list.append(eval_time)  "
      ]
    },
    {
      "cell_type": "code",
      "execution_count": null,
      "metadata": {
        "id": "KIFB4WVlzhhs"
      },
      "outputs": [],
      "source": [
        "epoch_list = [(i+1) for i in range(EPOCHS)]"
      ]
    },
    {
      "cell_type": "code",
      "execution_count": null,
      "metadata": {
        "colab": {
          "base_uri": "https://localhost:8080/"
        },
        "id": "0UmMXhKCzlg1",
        "outputId": "e21f65d1-b776-4ce9-b7f6-cc77f0abb418"
      },
      "outputs": [
        {
          "name": "stdout",
          "output_type": "stream",
          "text": [
            "Averge time taken to train an epoch ->  629.76  seconds\n",
            "Averge time taken to eval an epoch ->  2.74  seconds\n"
          ]
        }
      ],
      "source": [
        "print(\"Averge time taken to train an epoch -> \", round(np.mean(train_time_list),2), \" seconds\")\n",
        "print(\"Averge time taken to eval an epoch -> \", round(np.mean(eval_time_list),2), \" seconds\")"
      ]
    },
    {
      "cell_type": "code",
      "execution_count": null,
      "metadata": {
        "colab": {
          "base_uri": "https://localhost:8080/"
        },
        "id": "3Ueyn8nIzmlZ",
        "outputId": "e349583b-b7b0-457d-f52d-e62dc19c85b6"
      },
      "outputs": [
        {
          "name": "stdout",
          "output_type": "stream",
          "text": [
            "Last Epoch's Test Data Recall ->  0.1621\n",
            "Last Epoch's Test Data Precision ->  0.3049\n",
            "Last Epoch's Test Data NDCG ->  0.3528\n",
            "Last Epoch's Test Data MAP ->  0.0926\n",
            "Last Epoch's Train Data Loss ->  0.104\n"
          ]
        }
      ],
      "source": [
        "print(\"Last Epoch's Test Data Recall -> \", recall_list[-1])\n",
        "print(\"Last Epoch's Train Data Loss -> \", loss_list_epoch[-1])"
      ]
    }
  ],
  "metadata": {
    "colab": {
      "collapsed_sections": [],
      "name": "Untitled1.ipynb",
      "provenance": []
    },
    "kernelspec": {
      "display_name": "Python 3",
      "name": "python3"
    },
    "language_info": {
      "name": "python"
    },
    "widgets": {
      "application/vnd.jupyter.widget-state+json": {
        "56d5ac4d6242445682f837592bf0ced4": {
          "model_module": "@jupyter-widgets/base",
          "model_module_version": "1.2.0",
          "model_name": "LayoutModel",
          "state": {
            "_model_module": "@jupyter-widgets/base",
            "_model_module_version": "1.2.0",
            "_model_name": "LayoutModel",
            "_view_count": null,
            "_view_module": "@jupyter-widgets/base",
            "_view_module_version": "1.2.0",
            "_view_name": "LayoutView",
            "align_content": null,
            "align_items": null,
            "align_self": null,
            "border": null,
            "bottom": null,
            "display": null,
            "flex": null,
            "flex_flow": null,
            "grid_area": null,
            "grid_auto_columns": null,
            "grid_auto_flow": null,
            "grid_auto_rows": null,
            "grid_column": null,
            "grid_gap": null,
            "grid_row": null,
            "grid_template_areas": null,
            "grid_template_columns": null,
            "grid_template_rows": null,
            "height": null,
            "justify_content": null,
            "justify_items": null,
            "left": null,
            "margin": null,
            "max_height": null,
            "max_width": null,
            "min_height": null,
            "min_width": null,
            "object_fit": null,
            "object_position": null,
            "order": null,
            "overflow": null,
            "overflow_x": null,
            "overflow_y": null,
            "padding": null,
            "right": null,
            "top": null,
            "visibility": null,
            "width": null
          }
        },
        "5a69365e0f2447ceb2bc4f9a55539341": {
          "model_module": "@jupyter-widgets/controls",
          "model_module_version": "1.5.0",
          "model_name": "FloatProgressModel",
          "state": {
            "_dom_classes": [],
            "_model_module": "@jupyter-widgets/controls",
            "_model_module_version": "1.5.0",
            "_model_name": "FloatProgressModel",
            "_view_count": null,
            "_view_module": "@jupyter-widgets/controls",
            "_view_module_version": "1.5.0",
            "_view_name": "ProgressView",
            "bar_style": "success",
            "description": "",
            "description_tooltip": null,
            "layout": "IPY_MODEL_7f3d914f8b70480e9f37da8e006e2683",
            "max": 10,
            "min": 0,
            "orientation": "horizontal",
            "style": "IPY_MODEL_e5850b4e6d974364915a2557216e6d4e",
            "value": 10
          }
        },
        "5b8fed1e821047ac932e5eea137b01a9": {
          "model_module": "@jupyter-widgets/controls",
          "model_module_version": "1.5.0",
          "model_name": "HBoxModel",
          "state": {
            "_dom_classes": [],
            "_model_module": "@jupyter-widgets/controls",
            "_model_module_version": "1.5.0",
            "_model_name": "HBoxModel",
            "_view_count": null,
            "_view_module": "@jupyter-widgets/controls",
            "_view_module_version": "1.5.0",
            "_view_name": "HBoxView",
            "box_style": "",
            "children": [
              "IPY_MODEL_5f710f7577e94813b1d023f65ee32f9d",
              "IPY_MODEL_5a69365e0f2447ceb2bc4f9a55539341",
              "IPY_MODEL_a416d2b3f2e54b3ca4bd82469d53eda1"
            ],
            "layout": "IPY_MODEL_9de221597a514f94866fbf405b7a8dda"
          }
        },
        "5f710f7577e94813b1d023f65ee32f9d": {
          "model_module": "@jupyter-widgets/controls",
          "model_module_version": "1.5.0",
          "model_name": "HTMLModel",
          "state": {
            "_dom_classes": [],
            "_model_module": "@jupyter-widgets/controls",
            "_model_module_version": "1.5.0",
            "_model_name": "HTMLModel",
            "_view_count": null,
            "_view_module": "@jupyter-widgets/controls",
            "_view_module_version": "1.5.0",
            "_view_name": "HTMLView",
            "description": "",
            "description_tooltip": null,
            "layout": "IPY_MODEL_7a52d735a073466e9c64d84c885f634e",
            "placeholder": "​",
            "style": "IPY_MODEL_ef9509d02dfa4dceb19151f31d6dcd24",
            "value": "100%"
          }
        },
        "7a52d735a073466e9c64d84c885f634e": {
          "model_module": "@jupyter-widgets/base",
          "model_module_version": "1.2.0",
          "model_name": "LayoutModel",
          "state": {
            "_model_module": "@jupyter-widgets/base",
            "_model_module_version": "1.2.0",
            "_model_name": "LayoutModel",
            "_view_count": null,
            "_view_module": "@jupyter-widgets/base",
            "_view_module_version": "1.2.0",
            "_view_name": "LayoutView",
            "align_content": null,
            "align_items": null,
            "align_self": null,
            "border": null,
            "bottom": null,
            "display": null,
            "flex": null,
            "flex_flow": null,
            "grid_area": null,
            "grid_auto_columns": null,
            "grid_auto_flow": null,
            "grid_auto_rows": null,
            "grid_column": null,
            "grid_gap": null,
            "grid_row": null,
            "grid_template_areas": null,
            "grid_template_columns": null,
            "grid_template_rows": null,
            "height": null,
            "justify_content": null,
            "justify_items": null,
            "left": null,
            "margin": null,
            "max_height": null,
            "max_width": null,
            "min_height": null,
            "min_width": null,
            "object_fit": null,
            "object_position": null,
            "order": null,
            "overflow": null,
            "overflow_x": null,
            "overflow_y": null,
            "padding": null,
            "right": null,
            "top": null,
            "visibility": null,
            "width": null
          }
        },
        "7f3d914f8b70480e9f37da8e006e2683": {
          "model_module": "@jupyter-widgets/base",
          "model_module_version": "1.2.0",
          "model_name": "LayoutModel",
          "state": {
            "_model_module": "@jupyter-widgets/base",
            "_model_module_version": "1.2.0",
            "_model_name": "LayoutModel",
            "_view_count": null,
            "_view_module": "@jupyter-widgets/base",
            "_view_module_version": "1.2.0",
            "_view_name": "LayoutView",
            "align_content": null,
            "align_items": null,
            "align_self": null,
            "border": null,
            "bottom": null,
            "display": null,
            "flex": null,
            "flex_flow": null,
            "grid_area": null,
            "grid_auto_columns": null,
            "grid_auto_flow": null,
            "grid_auto_rows": null,
            "grid_column": null,
            "grid_gap": null,
            "grid_row": null,
            "grid_template_areas": null,
            "grid_template_columns": null,
            "grid_template_rows": null,
            "height": null,
            "justify_content": null,
            "justify_items": null,
            "left": null,
            "margin": null,
            "max_height": null,
            "max_width": null,
            "min_height": null,
            "min_width": null,
            "object_fit": null,
            "object_position": null,
            "order": null,
            "overflow": null,
            "overflow_x": null,
            "overflow_y": null,
            "padding": null,
            "right": null,
            "top": null,
            "visibility": null,
            "width": null
          }
        },
        "9de221597a514f94866fbf405b7a8dda": {
          "model_module": "@jupyter-widgets/base",
          "model_module_version": "1.2.0",
          "model_name": "LayoutModel",
          "state": {
            "_model_module": "@jupyter-widgets/base",
            "_model_module_version": "1.2.0",
            "_model_name": "LayoutModel",
            "_view_count": null,
            "_view_module": "@jupyter-widgets/base",
            "_view_module_version": "1.2.0",
            "_view_name": "LayoutView",
            "align_content": null,
            "align_items": null,
            "align_self": null,
            "border": null,
            "bottom": null,
            "display": null,
            "flex": null,
            "flex_flow": null,
            "grid_area": null,
            "grid_auto_columns": null,
            "grid_auto_flow": null,
            "grid_auto_rows": null,
            "grid_column": null,
            "grid_gap": null,
            "grid_row": null,
            "grid_template_areas": null,
            "grid_template_columns": null,
            "grid_template_rows": null,
            "height": null,
            "justify_content": null,
            "justify_items": null,
            "left": null,
            "margin": null,
            "max_height": null,
            "max_width": null,
            "min_height": null,
            "min_width": null,
            "object_fit": null,
            "object_position": null,
            "order": null,
            "overflow": null,
            "overflow_x": null,
            "overflow_y": null,
            "padding": null,
            "right": null,
            "top": null,
            "visibility": null,
            "width": null
          }
        },
        "a416d2b3f2e54b3ca4bd82469d53eda1": {
          "model_module": "@jupyter-widgets/controls",
          "model_module_version": "1.5.0",
          "model_name": "HTMLModel",
          "state": {
            "_dom_classes": [],
            "_model_module": "@jupyter-widgets/controls",
            "_model_module_version": "1.5.0",
            "_model_name": "HTMLModel",
            "_view_count": null,
            "_view_module": "@jupyter-widgets/controls",
            "_view_module_version": "1.5.0",
            "_view_name": "HTMLView",
            "description": "",
            "description_tooltip": null,
            "layout": "IPY_MODEL_56d5ac4d6242445682f837592bf0ced4",
            "placeholder": "​",
            "style": "IPY_MODEL_d6573a81043844df98d55443e3db7996",
            "value": " 10/10 [1:45:25&lt;00:00, 631.62s/it]"
          }
        },
        "d6573a81043844df98d55443e3db7996": {
          "model_module": "@jupyter-widgets/controls",
          "model_module_version": "1.5.0",
          "model_name": "DescriptionStyleModel",
          "state": {
            "_model_module": "@jupyter-widgets/controls",
            "_model_module_version": "1.5.0",
            "_model_name": "DescriptionStyleModel",
            "_view_count": null,
            "_view_module": "@jupyter-widgets/base",
            "_view_module_version": "1.2.0",
            "_view_name": "StyleView",
            "description_width": ""
          }
        },
        "e5850b4e6d974364915a2557216e6d4e": {
          "model_module": "@jupyter-widgets/controls",
          "model_module_version": "1.5.0",
          "model_name": "ProgressStyleModel",
          "state": {
            "_model_module": "@jupyter-widgets/controls",
            "_model_module_version": "1.5.0",
            "_model_name": "ProgressStyleModel",
            "_view_count": null,
            "_view_module": "@jupyter-widgets/base",
            "_view_module_version": "1.2.0",
            "_view_name": "StyleView",
            "bar_color": null,
            "description_width": ""
          }
        },
        "ef9509d02dfa4dceb19151f31d6dcd24": {
          "model_module": "@jupyter-widgets/controls",
          "model_module_version": "1.5.0",
          "model_name": "DescriptionStyleModel",
          "state": {
            "_model_module": "@jupyter-widgets/controls",
            "_model_module_version": "1.5.0",
            "_model_name": "DescriptionStyleModel",
            "_view_count": null,
            "_view_module": "@jupyter-widgets/base",
            "_view_module_version": "1.2.0",
            "_view_name": "StyleView",
            "description_width": ""
          }
        }
      }
    }
  },
  "nbformat": 4,
  "nbformat_minor": 0
}
